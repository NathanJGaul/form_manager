{
 "cells": [
  {
   "cell_type": "markdown",
   "metadata": {},
   "source": [
    "# JCC2 Data Analysis Notebook\n",
    "This notebook demonstrates how to use the JCC2 Data Processor for analyzing questionnaire and data collection formats."
   ]
  },
  {
   "cell_type": "markdown",
   "metadata": {},
   "source": [
    "## 1. Setup and Imports"
   ]
  },
  {
   "cell_type": "code",
   "execution_count": null,
   "metadata": {},
   "outputs": [],
   "source": [
    "# Standard imports\n",
    "import pandas as pd\n",
    "import numpy as np\n",
    "import matplotlib.pyplot as plt\n",
    "import seaborn as sns\n",
    "from pathlib import Path\n",
    "import json\n",
    "\n",
    "# Configure visualization settings\n",
    "plt.style.use('seaborn-v0_8-darkgrid')\n",
    "sns.set_palette(\"husl\")\n",
    "\n",
    "# Configure pandas display\n",
    "pd.set_option('display.max_columns', 50)\n",
    "pd.set_option('display.max_rows', 100)\n",
    "pd.set_option('display.max_colwidth', 100)"
   ]
  },
  {
   "cell_type": "code",
   "execution_count": null,
   "metadata": {},
   "outputs": [],
   "source": [
    "# Import JCC2 processor\n",
    "# Option 1: If the file is in the same directory\n",
    "from jcc2_data_processor import create_processor, DataFormat\n",
    "\n",
    "# Option 2: If the file is in a different directory\n",
    "# import sys\n",
    "# sys.path.append('/path/to/jcc2_processor')\n",
    "# from jcc2_data_processor import create_processor, DataFormat\n",
    "\n",
    "print(\"JCC2 Processor imported successfully!\")"
   ]
  },
  {
   "cell_type": "markdown",
   "metadata": {},
   "source": [
    "## 2. Load and Explore Data"
   ]
  },
  {
   "cell_type": "code",
   "execution_count": null,
   "metadata": {},
   "outputs": [],
   "source": [
    "# Specify your data file\n",
    "# Change this to your actual file path\n",
    "csv_file = \"mock_20_jcc2_user_questionnaire.csv\"\n",
    "\n",
    "# Create processor (automatically detects format)\n",
    "processor = create_processor(csv_file)\n",
    "print(f\"Detected format: {processor.format_type.value}\")\n",
    "\n",
    "# Load data\n",
    "df = processor.load_data()\n",
    "print(f\"\\nLoaded {len(df)} rows and {len(df.columns)} columns\")\n",
    "print(f\"Found {len(processor.sections)} sections\")\n",
    "print(f\"System columns: {processor.system_columns}\")"
   ]
  },
  {
   "cell_type": "code",
   "execution_count": null,
   "metadata": {},
   "outputs": [],
   "source": [
    "# Display basic information\n",
    "display(df.head())"
   ]
  },
  {
   "cell_type": "code",
   "execution_count": null,
   "metadata": {},
   "outputs": [],
   "source": [
    "# Show available sections\n",
    "print(\"Available sections:\")\n",
    "for i, (section, fields) in enumerate(processor.sections.items()):\n",
    "    print(f\"{i+1}. {section}: {len(fields)} fields\")\n",
    "    if i >= 9:  # Show first 10\n",
    "        print(\"...\")\n",
    "        break"
   ]
  },
  {
   "cell_type": "markdown",
   "metadata": {},
   "source": [
    "## 3. Data Validation"
   ]
  },
  {
   "cell_type": "code",
   "execution_count": null,
   "metadata": {},
   "outputs": [],
   "source": [
    "# Validate data\n",
    "errors = processor.validate_data()\n",
    "print(f\"Found {len(errors)} validation errors\")\n",
    "\n",
    "if errors:\n",
    "    # Show first few errors\n",
    "    errors_df = pd.DataFrame(errors[:10])\n",
    "    display(errors_df)"
   ]
  },
  {
   "cell_type": "markdown",
   "metadata": {},
   "source": [
    "## 4. Section Analysis"
   ]
  },
  {
   "cell_type": "code",
   "execution_count": null,
   "metadata": {},
   "outputs": [],
   "source": [
    "# Analyze a specific section\n",
    "section_name = list(processor.sections.keys())[0]\n",
    "section_summary = processor.get_section_summary(section_name)\n",
    "\n",
    "print(f\"Section: {section_name}\")\n",
    "print(f\"Total fields: {section_summary['total_fields']}\")\n",
    "\n",
    "# Create summary DataFrame\n",
    "field_stats = []\n",
    "for field, stats in section_summary['field_summaries'].items():\n",
    "    field_stats.append({\n",
    "        'Field': field.split('.')[-1],\n",
    "        'Type': stats['field_type'],\n",
    "        'Completion Rate': f\"{stats['completion_rate']:.1%}\",\n",
    "        'Non-null Count': stats['non_null_count']\n",
    "    })\n",
    "\n",
    "stats_df = pd.DataFrame(field_stats)\n",
    "display(stats_df)"
   ]
  },
  {
   "cell_type": "markdown",
   "metadata": {},
   "source": [
    "## 5. Format-Specific Analysis"
   ]
  },
  {
   "cell_type": "code",
   "execution_count": null,
   "metadata": {},
   "outputs": [],
   "source": [
    "# Get format-specific summary\n",
    "format_summary = processor.get_format_specific_summary()\n",
    "\n",
    "if processor.format_type == DataFormat.USER_QUESTIONNAIRE:\n",
    "    print(\"=== User Questionnaire Analysis ===\")\n",
    "    print(f\"Effectiveness ratings analyzed: {len(format_summary.get('effectiveness_ratings', {}))}\")\n",
    "    print(f\"Frequency distributions analyzed: {len(format_summary.get('frequency_distributions', {}))}\")\n",
    "    \n",
    "    # Show section completion rates\n",
    "    if 'section_completion_rates' in format_summary:\n",
    "        completion_df = pd.DataFrame(\n",
    "            [(k, f\"{v:.1%}\") for k, v in format_summary['section_completion_rates'].items()],\n",
    "            columns=['Section', 'Completion Rate']\n",
    "        )\n",
    "        display(completion_df.head(10))\n",
    "        \n",
    "elif processor.format_type == DataFormat.DATA_COLLECTION:\n",
    "    print(\"=== Data Collection Analysis ===\")\n",
    "    print(f\"Task performance metrics: {len(format_summary.get('task_performance_metrics', {}))}\")\n",
    "    print(f\"Workaround analysis: {len(format_summary.get('workaround_analysis', {}))}\")\n",
    "    print(f\"Datatable summaries: {len(format_summary.get('datatable_summaries', {}))}\")"
   ]
  },
  {
   "cell_type": "markdown",
   "metadata": {},
   "source": [
    "## 6. Visualizations"
   ]
  },
  {
   "cell_type": "code",
   "execution_count": null,
   "metadata": {},
   "outputs": [],
   "source": [
    "# Prepare visualization data\n",
    "viz_data = processor.prepare_visualization_data()\n",
    "format_viz = processor.prepare_format_specific_visualizations()\n",
    "\n",
    "print(\"Available visualizations:\")\n",
    "for key in viz_data.keys():\n",
    "    print(f\"- {key}\")\n",
    "for key in format_viz.keys():\n",
    "    print(f\"- {key} (format-specific)\")"
   ]
  },
  {
   "cell_type": "code",
   "execution_count": null,
   "metadata": {},
   "outputs": [],
   "source": [
    "# Application usage visualization\n",
    "if 'application_usage' in viz_data:\n",
    "    app_usage_df = viz_data['application_usage']\n",
    "    \n",
    "    fig, (ax1, ax2) = plt.subplots(1, 2, figsize=(15, 6))\n",
    "    \n",
    "    # Total fields per application\n",
    "    app_usage_df.sort_values('total_fields', ascending=True).plot(\n",
    "        x='application', y='total_fields', kind='barh', ax=ax1, legend=False\n",
    "    )\n",
    "    ax1.set_xlabel('Total Fields')\n",
    "    ax1.set_title('Fields per Application')\n",
    "    \n",
    "    # Average responses per application\n",
    "    app_usage_df.sort_values('avg_responses', ascending=True).plot(\n",
    "        x='application', y='avg_responses', kind='barh', ax=ax2, legend=False, color='orange'\n",
    "    )\n",
    "    ax2.set_xlabel('Average Responses')\n",
    "    ax2.set_title('Average Responses per Application')\n",
    "    \n",
    "    plt.tight_layout()\n",
    "    plt.show()"
   ]
  },
  {
   "cell_type": "markdown",
   "metadata": {},
   "source": [
    "### 6.1 Format-Specific Visualizations"
   ]
  },
  {
   "cell_type": "code",
   "execution_count": null,
   "metadata": {},
   "outputs": [],
   "source": [
    "# For User Questionnaire: Effectiveness Heatmap\n",
    "if processor.format_type == DataFormat.USER_QUESTIONNAIRE and 'effectiveness_heatmap' in format_viz:\n",
    "    effectiveness_df = format_viz['effectiveness_heatmap']\n",
    "    \n",
    "    # Sample 10 columns for visualization\n",
    "    sample_cols = effectiveness_df.columns[:10]\n",
    "    \n",
    "    plt.figure(figsize=(12, 8))\n",
    "    sns.heatmap(\n",
    "        effectiveness_df[sample_cols].T, \n",
    "        cmap='RdYlGn', \n",
    "        center=3.5, \n",
    "        vmin=1, \n",
    "        vmax=6,\n",
    "        cbar_kws={'label': 'Effectiveness Score'},\n",
    "        yticklabels=[col.split('.')[-1][:30] for col in sample_cols]\n",
    "    )\n",
    "    plt.title('Effectiveness Ratings Heatmap (Sample)')\n",
    "    plt.xlabel('Response ID')\n",
    "    plt.tight_layout()\n",
    "    plt.show()"
   ]
  },
  {
   "cell_type": "code",
   "execution_count": null,
   "metadata": {},
   "outputs": [],
   "source": [
    "# For Data Collection: Task Performance\n",
    "if processor.format_type == DataFormat.DATA_COLLECTION and 'task_performance' in format_viz:\n",
    "    task_perf_df = format_viz['task_performance']\n",
    "    \n",
    "    plt.figure(figsize=(10, 8))\n",
    "    task_perf_df.sort_values('success_rate').plot(\n",
    "        x='task', \n",
    "        y='success_rate', \n",
    "        kind='barh',\n",
    "        legend=False\n",
    "    )\n",
    "    \n",
    "    # Add percentage labels\n",
    "    for idx, row in task_perf_df.iterrows():\n",
    "        plt.text(row['success_rate'], idx, f\"{row['success_rate']:.1%}\", \n",
    "                va='center', ha='left', fontsize=9)\n",
    "    \n",
    "    plt.xlabel('Success Rate')\n",
    "    plt.title('Task Success Rates')\n",
    "    plt.xlim(0, 1.1)\n",
    "    plt.tight_layout()\n",
    "    plt.show()"
   ]
  },
  {
   "cell_type": "markdown",
   "metadata": {},
   "source": [
    "## 7. Export Results"
   ]
  },
  {
   "cell_type": "code",
   "execution_count": null,
   "metadata": {},
   "outputs": [],
   "source": [
    "# Export summary to JSON\n",
    "output_file = f\"jcc2_{processor.format_type.value}_analysis.json\"\n",
    "summary = processor.export_summary(output_file)\n",
    "print(f\"Summary exported to {output_file}\")\n",
    "\n",
    "# Display summary structure\n",
    "print(\"\\nSummary structure:\")\n",
    "for key in summary.keys():\n",
    "    if isinstance(summary[key], dict):\n",
    "        print(f\"- {key}: {len(summary[key])} items\")\n",
    "    else:\n",
    "        print(f\"- {key}: {type(summary[key]).__name__}\")"
   ]
  },
  {
   "cell_type": "code",
   "execution_count": null,
   "metadata": {},
   "outputs": [],
   "source": [
    "# Create Excel export with multiple sheets\n",
    "excel_file = f\"jcc2_{processor.format_type.value}_analysis.xlsx\"\n",
    "\n",
    "with pd.ExcelWriter(excel_file, engine='openpyxl') as writer:\n",
    "    # Export raw data (first 100 rows as sample)\n",
    "    df.head(100).to_excel(writer, sheet_name='Sample_Data', index=False)\n",
    "    \n",
    "    # Export section summaries\n",
    "    section_stats = []\n",
    "    for section in list(processor.sections.keys())[:5]:  # First 5 sections\n",
    "        summary = processor.get_section_summary(section)\n",
    "        section_stats.append({\n",
    "            'Section': section,\n",
    "            'Fields': summary['total_fields'],\n",
    "            'Avg Completion': np.mean([f['completion_rate'] for f in summary['field_summaries'].values()])\n",
    "        })\n",
    "    \n",
    "    pd.DataFrame(section_stats).to_excel(writer, sheet_name='Section_Summary', index=False)\n",
    "    \n",
    "    # Export validation errors\n",
    "    if errors:\n",
    "        pd.DataFrame(errors[:100]).to_excel(writer, sheet_name='Validation_Errors', index=False)\n",
    "\n",
    "print(f\"Excel analysis exported to {excel_file}\")"
   ]
  },
  {
   "cell_type": "markdown",
   "metadata": {},
   "source": [
    "## 8. Interactive Analysis Widget"
   ]
  },
  {
   "cell_type": "code",
   "execution_count": null,
   "metadata": {},
   "outputs": [],
   "source": [
    "# Create interactive section explorer\n",
    "try:\n",
    "    import ipywidgets as widgets\n",
    "    from IPython.display import display\n",
    "    \n",
    "    # Create dropdown for sections\n",
    "    section_dropdown = widgets.Dropdown(\n",
    "        options=list(processor.sections.keys()),\n",
    "        description='Section:',\n",
    "        style={'description_width': 'initial'}\n",
    "    )\n",
    "    \n",
    "    output = widgets.Output()\n",
    "    \n",
    "    def explore_section(section):\n",
    "        with output:\n",
    "            output.clear_output()\n",
    "            \n",
    "            summary = processor.get_section_summary(section)\n",
    "            print(f\"Section: {section}\")\n",
    "            print(f\"Total fields: {summary['total_fields']}\")\n",
    "            \n",
    "            # Field type distribution\n",
    "            type_counts = {}\n",
    "            for field_data in summary['field_summaries'].values():\n",
    "                field_type = field_data['field_type']\n",
    "                type_counts[field_type] = type_counts.get(field_type, 0) + 1\n",
    "            \n",
    "            print(\"\\nField types:\")\n",
    "            for ftype, count in type_counts.items():\n",
    "                print(f\"  - {ftype}: {count}\")\n",
    "            \n",
    "            # Completion stats\n",
    "            completion_rates = [f['completion_rate'] for f in summary['field_summaries'].values()]\n",
    "            print(f\"\\nAverage completion rate: {np.mean(completion_rates):.1%}\")\n",
    "            print(f\"Min completion rate: {np.min(completion_rates):.1%}\")\n",
    "            print(f\"Max completion rate: {np.max(completion_rates):.1%}\")\n",
    "    \n",
    "    # Create interactive widget\n",
    "    widgets.interactive(explore_section, section=section_dropdown)\n",
    "    display(section_dropdown)\n",
    "    display(output)\n",
    "    \n",
    "    # Initialize with first section\n",
    "    explore_section(section_dropdown.value)\n",
    "    \n",
    "except ImportError:\n",
    "    print(\"ipywidgets not installed. Run: pip install ipywidgets\")"
   ]
  }
 ],
 "metadata": {
  "kernelspec": {
   "display_name": "Python 3",
   "language": "python",
   "name": "python3"
  },
  "language_info": {
   "codemirror_mode": {
    "name": "ipython",
    "version": 3
   },
   "file_extension": ".py",
   "mimetype": "text/x-python",
   "name": "python",
   "nbconvert_exporter": "python",
   "pygments_lexer": "ipython3",
   "version": "3.8.0"
  }
 },
 "nbformat": 4,
 "nbformat_minor": 4
}