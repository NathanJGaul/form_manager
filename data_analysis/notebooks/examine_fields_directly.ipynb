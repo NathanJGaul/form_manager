{
 "cells": [
  {
   "cell_type": "markdown",
   "id": "header",
   "metadata": {},
   "source": [
    "# Direct Field Examination\n",
    "\n",
    "Let's examine the actual field names to understand the pattern."
   ]
  },
  {
   "cell_type": "code",
   "execution_count": null,
   "id": "setup",
   "metadata": {},
   "outputs": [],
   "source": [
    "import sys\n",
    "import os\n",
    "sys.path.insert(0, os.path.abspath('..'))\n",
    "from jcc2_data_processor import create_processor\n",
    "import pandas as pd"
   ]
  },
  {
   "cell_type": "code",
   "execution_count": null,
   "id": "load-data",
   "metadata": {},
   "outputs": [],
   "source": [
    "# Load data\n",
    "data_file = '/home/nathanjgaul/Downloads/DCDC UQ Combined_2025-07-30_pii_scrubbed.csv'\n",
    "processor = create_processor(data_file)\n",
    "df = processor.load_data()\n",
    "print(f\"Data loaded: {len(df)} rows, {len(df.columns)} columns\")"
   ]
  },
  {
   "cell_type": "code",
   "execution_count": null,
   "id": "examine-mop111",
   "metadata": {},
   "outputs": [],
   "source": [
    "# Look at ALL fields in mop_1_1_1 section\n",
    "print(\"ALL fields in mop_1_1_1:\")\n",
    "print(\"=\" * 80)\n",
    "\n",
    "if 'mop_1_1_1' in processor.sections:\n",
    "    fields = sorted(processor.sections['mop_1_1_1'])\n",
    "    for i, field in enumerate(fields):\n",
    "        print(f\"{i+1:3d}. {field}\")\n",
    "        # Check if it has data\n",
    "        if field in df.columns:\n",
    "            non_null = df[field].notna().sum()\n",
    "            if non_null > 0:\n",
    "                print(f\"     -> Has {non_null} non-null values\")\n",
    "                # Show sample values\n",
    "                sample = df[field].dropna().head(3).tolist()\n",
    "                print(f\"     -> Sample: {sample}\")"
   ]
  },
  {
   "cell_type": "code",
   "execution_count": null,
   "id": "find-threathub",
   "metadata": {},
   "outputs": [],
   "source": [
    "# Search for specific app fields\n",
    "print(\"\\nSearching for fields containing specific apps:\")\n",
    "print(\"=\" * 80)\n",
    "\n",
    "apps_to_search = ['threathub', 'a2it', 'cad', 'madss']\n",
    "\n",
    "for app in apps_to_search:\n",
    "    print(f\"\\nFields containing '{app}':\")\n",
    "    app_fields = [col for col in df.columns if app in col.lower()]\n",
    "    \n",
    "    if app_fields:\n",
    "        for field in app_fields[:10]:  # First 10\n",
    "            print(f\"  - {field}\")\n",
    "            # Check section\n",
    "            parts = field.split('.')\n",
    "            if len(parts) > 1:\n",
    "                print(f\"    Section: {parts[0]}\")\n",
    "    else:\n",
    "        print(f\"  No fields found containing '{app}'\")"
   ]
  },
  {
   "cell_type": "code",
   "execution_count": null,
   "id": "pattern-discovery",
   "metadata": {},
   "outputs": [],
   "source": [
    "# Let's look for effectiveness/suitability fields specifically\n",
    "print(\"\\nEffectiveness/Suitability fields pattern analysis:\")\n",
    "print(\"=\" * 80)\n",
    "\n",
    "# Get all rating fields\n",
    "rating_fields = [col for col in df.columns if any(x in col.lower() for x in ['effectiveness', 'suitability'])]\n",
    "\n",
    "# Group by section\n",
    "sections_with_ratings = {}\n",
    "for field in rating_fields:\n",
    "    parts = field.split('.')\n",
    "    if len(parts) >= 2:\n",
    "        section = parts[0]\n",
    "        if section not in sections_with_ratings:\n",
    "            sections_with_ratings[section] = []\n",
    "        sections_with_ratings[section].append(field)\n",
    "\n",
    "# Show fields for our target sections\n",
    "target_sections = ['mop_1_1_1', 'mos_1_1_2', 'reporting_and_data_export']\n",
    "\n",
    "for section in target_sections:\n",
    "    if section in sections_with_ratings:\n",
    "        print(f\"\\n{section}:\")\n",
    "        fields = sections_with_ratings[section]\n",
    "        print(f\"  Total rating fields: {len(fields)}\")\n",
    "        \n",
    "        # Show examples\n",
    "        for field in fields[:5]:\n",
    "            print(f\"  - {field}\")\n",
    "            # Extract the part after section name\n",
    "            field_part = field.replace(f\"{section}.\", \"\")\n",
    "            print(f\"    Field part: '{field_part}'\")\n",
    "            \n",
    "            # Check for app names\n",
    "            for app in ['threathub', 'a2it', 'cad', 'madss', 'sigact', 'unity']:\n",
    "                if app in field_part:\n",
    "                    print(f\"    Contains app: {app}\")"
   ]
  },
  {
   "cell_type": "code",
   "execution_count": null,
   "id": "find-pattern",
   "metadata": {},
   "outputs": [],
   "source": [
    "# Let's look at the actual pattern by examining field endings\n",
    "print(\"\\nAnalyzing field name patterns:\")\n",
    "print(\"=\" * 80)\n",
    "\n",
    "# Get effectiveness fields from mop_1_1_1\n",
    "mop_fields = [f for f in df.columns if f.startswith('mop_1_1_1') and 'effectiveness' in f]\n",
    "\n",
    "print(f\"\\nMOP 1.1.1 effectiveness fields ({len(mop_fields)} total):\")\n",
    "\n",
    "# Extract the endings\n",
    "endings = []\n",
    "for field in mop_fields:\n",
    "    # Remove the section prefix\n",
    "    without_section = field.replace('mop_1_1_1.', '')\n",
    "    print(f\"\\n  Field: {field}\")\n",
    "    print(f\"  Without section: {without_section}\")\n",
    "    \n",
    "    # Try to identify the pattern\n",
    "    parts = without_section.split('_')\n",
    "    if len(parts) > 0:\n",
    "        last_part = parts[-1]\n",
    "        print(f\"  Last part: {last_part}\")\n",
    "        \n",
    "        # Check if last part is an app\n",
    "        apps = ['threathub', 'a2it', 'cad', 'codex', 'crucible', 'dispatch', \n",
    "                'jcc2cyberops', 'jcc2readiness', 'madss', 'rally', 'redmap',\n",
    "                'sigact', 'triage', 'unity']\n",
    "        \n",
    "        if last_part in apps:\n",
    "            print(f\"  -> FOUND APP: {last_part}\")\n",
    "        elif 'overall' in without_section:\n",
    "            print(f\"  -> OVERALL FIELD\")\n",
    "        else:\n",
    "            print(f\"  -> UNKNOWN PATTERN\")"
   ]
  }
 ],
 "metadata": {
  "kernelspec": {
   "display_name": "Python 3",
   "language": "python",
   "name": "python3"
  },
  "language_info": {
   "codemirror_mode": {
    "name": "ipython",
    "version": 3
   },
   "file_extension": ".py",
   "mimetype": "text/x-python",
   "name": "python",
   "nbconvert_exporter": "python",
   "pygments_lexer": "ipython3",
   "version": "3.9.0"
  }
 },
 "nbformat": 4,
 "nbformat_minor": 5
}